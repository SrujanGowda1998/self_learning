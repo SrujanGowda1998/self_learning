{
 "cells": [
  {
   "cell_type": "markdown",
   "metadata": {},
   "source": [
    "Naive Bayes"
   ]
  },
  {
   "cell_type": "markdown",
   "metadata": {},
   "source": [
    "Basic assumption:\n",
    "- Features are independent\n",
    "\n",
    "Advantages:\n",
    "- Works well when we have large number of features.\n",
    "- Works well with large training dataset.\n",
    "- It converges faster when we are training the model.\n",
    "- It works well with caregorical features.\n",
    "\n",
    "Disadvantages:\n",
    "- Correlated features affects performance.\n",
    "\n",
    "Feature scaling required?\n",
    "- No\n",
    "\n",
    "Impact of outliers?\n",
    "- Usually robust to outliers.\n",
    "\n",
    "Impact of missing data?\n",
    "- It handles missing data.\n",
    "\n",
    "Different problem statements:\n",
    "- Sentiment analysis\n",
    "- Spam classification\n",
    "- Document categorization"
   ]
  },
  {
   "cell_type": "markdown",
   "metadata": {},
   "source": [
    "Tutorial 48th : https://www.youtube.com/watch?v=jS1CKhALUBQ\n",
    "Tutorial 49th: https://www.youtube.com/watch?v=temQ8mHpe3k"
   ]
  },
  {
   "cell_type": "code",
   "execution_count": null,
   "metadata": {},
   "outputs": [],
   "source": []
  },
  {
   "cell_type": "code",
   "execution_count": null,
   "metadata": {},
   "outputs": [],
   "source": []
  },
  {
   "cell_type": "code",
   "execution_count": null,
   "metadata": {},
   "outputs": [],
   "source": []
  },
  {
   "cell_type": "code",
   "execution_count": null,
   "metadata": {},
   "outputs": [],
   "source": []
  },
  {
   "cell_type": "code",
   "execution_count": null,
   "metadata": {},
   "outputs": [],
   "source": []
  },
  {
   "cell_type": "code",
   "execution_count": null,
   "metadata": {},
   "outputs": [],
   "source": []
  },
  {
   "cell_type": "code",
   "execution_count": null,
   "metadata": {},
   "outputs": [],
   "source": []
  },
  {
   "cell_type": "code",
   "execution_count": null,
   "metadata": {},
   "outputs": [],
   "source": []
  },
  {
   "cell_type": "code",
   "execution_count": null,
   "metadata": {},
   "outputs": [],
   "source": []
  }
 ],
 "metadata": {
  "language_info": {
   "name": "python"
  }
 },
 "nbformat": 4,
 "nbformat_minor": 2
}
